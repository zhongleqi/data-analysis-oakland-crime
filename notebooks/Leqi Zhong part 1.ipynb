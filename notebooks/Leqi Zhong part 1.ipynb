{
 "cells": [
  {
   "cell_type": "markdown",
   "id": "9e17f6ae-c5f5-4c71-b0c3-a9310d762b48",
   "metadata": {},
   "source": [
    "# Oakland Crime Rate 2016-2022 (Part 1)"
   ]
  },
  {
   "cell_type": "markdown",
   "id": "2ef77667-d262-4b15-9cc5-bcc64ed7f00a",
   "metadata": {},
   "source": [
    "Leqi Zhong\n",
    "\n",
    "Programming in Journalism, Winter 2023\n",
    "\n"
   ]
  },
  {
   "cell_type": "markdown",
   "id": "a9e8289e-d607-4d65-92ce-9c9a6ffeb200",
   "metadata": {},
   "source": [
    "## Introduction"
   ]
  },
  {
   "cell_type": "markdown",
   "id": "59c13de3-8d3f-44a9-9a19-42ea9db7f739",
   "metadata": {},
   "source": [
    "### The Project"
   ]
  },
  {
   "cell_type": "markdown",
   "id": "8cf71460-3895-4e72-af40-4d3fedf1cee5",
   "metadata": {},
   "source": [
    "Oakland, California, is known as one of the most dangerous cities in the U.S. Especially since the pandemic, Oakland residents have complained of a decline in safety, with an increase in crime due to a stagnant economy and inflation. Some neighborhoods, such as Oakland's Chinatown, have faced a rise in crime targeting the Asian Pacific Islander community, while the Oakland Police Department did not have the budget to deploy patrol teams. As a result, the community organized volunteer patrols to address safety concerns. The project gathered crime statistics from the Oakland Police Department, narrowed down to full years of data from 2016 to 2022, with the goal of analyzing policing trends in Oakland and the impact of the pandemic on crime rates."
   ]
  },
  {
   "cell_type": "markdown",
   "id": "e795e087-b00a-4a37-bcc5-62455a86a5dc",
   "metadata": {},
   "source": [
    "### Data Source"
   ]
  },
  {
   "cell_type": "markdown",
   "id": "c00d5bdf-2293-4b32-bcfe-29917ad75f5c",
   "metadata": {},
   "source": [
    "City of Oakland, CrimeWatch data:\n",
    "https://data.oaklandca.gov/Public-Safety/CrimeWatch-Data/ppgh-7dqv/data\n",
    "\n",
    "Oakland Police Beats Map: \n",
    "https://oakgis.maps.arcgis.com/apps/OnePane/basicviewer/index.html?appid=12ae8a087be44043abc6996c5e499d5c"
   ]
  },
  {
   "cell_type": "markdown",
   "id": "2a775875-b802-4f6c-8a6e-078ffd0319cf",
   "metadata": {},
   "source": [
    "### Findings"
   ]
  },
  {
   "cell_type": "markdown",
   "id": "81e661d1-20fa-4804-a112-3fda5571d1c0",
   "metadata": {},
   "source": [
    "1. In terms of the total number of cases, the crime rate has increased in the last two years (the lower crime rate in 2020 may be due to the fact that most people are homebound) and, in particular, 2022 is the highest total number of crimes in six years and has the largest increase.\n",
    "\n",
    "2. Regarding the timing of crime, no correlation was found between crime and month and season.\n",
    "\n",
    "3. Auto-related crime is the most common type of crime. Auto burglary was the most common type of crime, followed by stolen vehicle and vandalism. Petty theft, misdemeanor assault, domestic violence, and robbery were also more common types of crime.\n",
    "\n",
    "4. The most dangerous area in Oakland are Downtown Oakland(04X), west side of Lake Merritt(08X), and Fruitvale(19X).\n",
    "\n",
    "5. 2020 is the only year in which the number of stolen vehicle cases was higher than auto burglary, perhaps related to the fact that people stay home for a long time and do not go out.\n",
    "\n",
    "6. The number of auto burglary and stolen vehicle cases is rising sharply, from about 15,000 in 2016 to nearly 20,000 in 2022.\n",
    "\n",
    "7. In terms of the 03X area where Chinatown is located, though the number of cases is on the rise from 2020 to 2022, the recent three years' number of cases is significantly lower than the pre-pandemic's number of cases, i.e. the security situation is better than pre-pandemic.\n",
    "\n",
    "8. For Chinatown, the top crime types are auto burglary, vandalism, misdemeanor assault and robbery. Since the latter two cases occur more frequently in Chinatown (compared to Oakland's total crime tpye trend), this may be the reason why people feel that \"Chinatown is not safe.\""
   ]
  },
  {
   "cell_type": "markdown",
   "id": "3928718c-1df6-4513-9f7c-0962e44591f0",
   "metadata": {},
   "source": [
    "### Limitations:"
   ]
  },
  {
   "cell_type": "markdown",
   "id": "5f6f6b2b-6432-40ca-bcff-6c8cd69e1136",
   "metadata": {},
   "source": [
    "1. The police department is using Uniform Crime Reporting (UCR) model to record crimes, which has a hierarchy rule that classifies each incident into one category, even if it involves multiple crimes. Therefore, the numbers cannot fully reflect residents' safety concerns.\n",
    "\n",
    "2. Due to errors and limitations, about 5% of the cases did not specify the exact crime type. In addition, the classification of crime types is not clear.\n",
    "\n",
    "3. Some data are missing PoliceBeat or location data. But it's only 0.4% of the total data, so I believe it doesn't affect the big picture."
   ]
  },
  {
   "cell_type": "markdown",
   "id": "141fd53a-78fb-4c5c-a22e-17d5c605d5f4",
   "metadata": {},
   "source": [
    "## Importing Tools and Data"
   ]
  },
  {
   "cell_type": "code",
   "execution_count": 3,
   "id": "7d6d2d48-2c90-4ab6-a111-6c7f38d2e20f",
   "metadata": {},
   "outputs": [],
   "source": [
    "import pandas as pd\n",
    "import requests"
   ]
  },
  {
   "cell_type": "code",
   "execution_count": 4,
   "id": "d7da5e36-3b6d-4977-bd26-2e811e3e442b",
   "metadata": {},
   "outputs": [
    {
     "data": {
      "text/plain": [
       "138473055"
      ]
     },
     "execution_count": 4,
     "metadata": {},
     "output_type": "execute_result"
    }
   ],
   "source": [
    "url = 'https://data.oaklandca.gov/api/views/ppgh-7dqv/rows.csv?accessType=DOWNLOAD'\n",
    "r = requests.get(url, allow_redirects=False)\n",
    "open('CrimeWatch_Data.csv', 'wb').write(r.content)"
   ]
  },
  {
   "cell_type": "code",
   "execution_count": 5,
   "id": "3198d422-10df-428c-97f5-3fc31f4a7073",
   "metadata": {},
   "outputs": [],
   "source": [
    "crime_watch = pd.read_csv('CrimeWatch_Data.csv')"
   ]
  },
  {
   "cell_type": "code",
   "execution_count": 6,
   "id": "4086d31f-b3b9-4027-8187-496afe6f3ab9",
   "metadata": {},
   "outputs": [
    {
     "data": {
      "text/html": [
       "<div>\n",
       "<style scoped>\n",
       "    .dataframe tbody tr th:only-of-type {\n",
       "        vertical-align: middle;\n",
       "    }\n",
       "\n",
       "    .dataframe tbody tr th {\n",
       "        vertical-align: top;\n",
       "    }\n",
       "\n",
       "    .dataframe thead th {\n",
       "        text-align: right;\n",
       "    }\n",
       "</style>\n",
       "<table border=\"1\" class=\"dataframe\">\n",
       "  <thead>\n",
       "    <tr style=\"text-align: right;\">\n",
       "      <th></th>\n",
       "      <th>CrimeType</th>\n",
       "      <th>DateTime</th>\n",
       "      <th>CaseNumber</th>\n",
       "      <th>Description</th>\n",
       "      <th>PoliceBeat</th>\n",
       "      <th>Address</th>\n",
       "      <th>City</th>\n",
       "      <th>State</th>\n",
       "      <th>Location</th>\n",
       "    </tr>\n",
       "  </thead>\n",
       "  <tbody>\n",
       "    <tr>\n",
       "      <th>0</th>\n",
       "      <td>VANDALISM</td>\n",
       "      <td>10/02/2021 10:30:00 PM</td>\n",
       "      <td>21-916959</td>\n",
       "      <td>VANDALISM</td>\n",
       "      <td>04X</td>\n",
       "      <td>17TH ST</td>\n",
       "      <td>Oakland</td>\n",
       "      <td>CA</td>\n",
       "      <td>NaN</td>\n",
       "    </tr>\n",
       "    <tr>\n",
       "      <th>1</th>\n",
       "      <td>BURG - AUTO</td>\n",
       "      <td>10/11/2021 12:00:00 AM</td>\n",
       "      <td>21-917387</td>\n",
       "      <td>BURGLARY-AUTO</td>\n",
       "      <td>77X</td>\n",
       "      <td>TELEGRAPH AVE</td>\n",
       "      <td>Oakland</td>\n",
       "      <td>CA</td>\n",
       "      <td>NaN</td>\n",
       "    </tr>\n",
       "    <tr>\n",
       "      <th>2</th>\n",
       "      <td>BURG - AUTO</td>\n",
       "      <td>11/09/2021 07:45:00 PM</td>\n",
       "      <td>21-919287</td>\n",
       "      <td>BURGLARY-AUTO</td>\n",
       "      <td>77X</td>\n",
       "      <td>COLLEGE AVE</td>\n",
       "      <td>Oakland</td>\n",
       "      <td>CA</td>\n",
       "      <td>NaN</td>\n",
       "    </tr>\n",
       "    <tr>\n",
       "      <th>3</th>\n",
       "      <td>BURG - AUTO</td>\n",
       "      <td>11/10/2021 07:00:00 PM</td>\n",
       "      <td>21-919396</td>\n",
       "      <td>BURGLARY-AUTO</td>\n",
       "      <td>77X</td>\n",
       "      <td>48TH ST</td>\n",
       "      <td>Oakland</td>\n",
       "      <td>CA</td>\n",
       "      <td>NaN</td>\n",
       "    </tr>\n",
       "    <tr>\n",
       "      <th>4</th>\n",
       "      <td>GRAND THEFT</td>\n",
       "      <td>11/15/2021 04:00:00 PM</td>\n",
       "      <td>21-919633</td>\n",
       "      <td>GRAND THEFT</td>\n",
       "      <td>77X</td>\n",
       "      <td>PALISADE</td>\n",
       "      <td>Oakland</td>\n",
       "      <td>CA</td>\n",
       "      <td>NaN</td>\n",
       "    </tr>\n",
       "  </tbody>\n",
       "</table>\n",
       "</div>"
      ],
      "text/plain": [
       "     CrimeType                DateTime CaseNumber    Description PoliceBeat  \\\n",
       "0    VANDALISM  10/02/2021 10:30:00 PM  21-916959      VANDALISM        04X   \n",
       "1  BURG - AUTO  10/11/2021 12:00:00 AM  21-917387  BURGLARY-AUTO        77X   \n",
       "2  BURG - AUTO  11/09/2021 07:45:00 PM  21-919287  BURGLARY-AUTO        77X   \n",
       "3  BURG - AUTO  11/10/2021 07:00:00 PM  21-919396  BURGLARY-AUTO        77X   \n",
       "4  GRAND THEFT  11/15/2021 04:00:00 PM  21-919633    GRAND THEFT        77X   \n",
       "\n",
       "         Address     City State Location  \n",
       "0        17TH ST  Oakland    CA      NaN  \n",
       "1  TELEGRAPH AVE  Oakland    CA      NaN  \n",
       "2    COLLEGE AVE  Oakland    CA      NaN  \n",
       "3        48TH ST  Oakland    CA      NaN  \n",
       "4       PALISADE  Oakland    CA      NaN  "
      ]
     },
     "execution_count": 6,
     "metadata": {},
     "output_type": "execute_result"
    }
   ],
   "source": [
    "crime_watch.head()"
   ]
  },
  {
   "cell_type": "markdown",
   "id": "dbc3f81a-8d82-42f2-9435-59b35182bfa0",
   "metadata": {},
   "source": [
    "## Data Cleaning"
   ]
  },
  {
   "cell_type": "markdown",
   "id": "cb5570c9-1995-4c74-91bf-80ac15a6ce08",
   "metadata": {},
   "source": [
    "### Datetime"
   ]
  },
  {
   "cell_type": "code",
   "execution_count": 7,
   "id": "e561ddf8-fe36-4ccf-be8f-dc25b8195f8c",
   "metadata": {},
   "outputs": [
    {
     "data": {
      "text/plain": [
       "'10/02/2021 10:30:00 PM'"
      ]
     },
     "execution_count": 7,
     "metadata": {},
     "output_type": "execute_result"
    }
   ],
   "source": [
    "crime_watch.DateTime[0]"
   ]
  },
  {
   "cell_type": "code",
   "execution_count": 8,
   "id": "ab038d8d-322a-4efa-b9aa-0190aa93125a",
   "metadata": {},
   "outputs": [
    {
     "data": {
      "text/html": [
       "<div>\n",
       "<style scoped>\n",
       "    .dataframe tbody tr th:only-of-type {\n",
       "        vertical-align: middle;\n",
       "    }\n",
       "\n",
       "    .dataframe tbody tr th {\n",
       "        vertical-align: top;\n",
       "    }\n",
       "\n",
       "    .dataframe thead th {\n",
       "        text-align: right;\n",
       "    }\n",
       "</style>\n",
       "<table border=\"1\" class=\"dataframe\">\n",
       "  <thead>\n",
       "    <tr style=\"text-align: right;\">\n",
       "      <th></th>\n",
       "      <th>CrimeType</th>\n",
       "      <th>DateTime</th>\n",
       "      <th>CaseNumber</th>\n",
       "      <th>Description</th>\n",
       "      <th>PoliceBeat</th>\n",
       "      <th>Address</th>\n",
       "      <th>City</th>\n",
       "      <th>State</th>\n",
       "      <th>Location</th>\n",
       "    </tr>\n",
       "  </thead>\n",
       "  <tbody>\n",
       "    <tr>\n",
       "      <th>450</th>\n",
       "      <td>NaN</td>\n",
       "      <td>NaN</td>\n",
       "      <td>08-055152</td>\n",
       "      <td>BURGLARY-AUTO</td>\n",
       "      <td>77X</td>\n",
       "      <td>UNKNOWN</td>\n",
       "      <td>Oakland</td>\n",
       "      <td>CA</td>\n",
       "      <td>NaN</td>\n",
       "    </tr>\n",
       "    <tr>\n",
       "      <th>477</th>\n",
       "      <td>NaN</td>\n",
       "      <td>NaN</td>\n",
       "      <td>08-065205</td>\n",
       "      <td>GRAND THEFT:MISCELLANEOUS (AMENDED)</td>\n",
       "      <td>11X</td>\n",
       "      <td>500 63RD ST</td>\n",
       "      <td>Oakland</td>\n",
       "      <td>CA</td>\n",
       "      <td>POINT (-122.2609 37.84867)</td>\n",
       "    </tr>\n",
       "    <tr>\n",
       "      <th>490</th>\n",
       "      <td>NaN</td>\n",
       "      <td>NaN</td>\n",
       "      <td>08-070104</td>\n",
       "      <td>THEFT</td>\n",
       "      <td>77X</td>\n",
       "      <td>UNKNOWN</td>\n",
       "      <td>Oakland</td>\n",
       "      <td>CA</td>\n",
       "      <td>NaN</td>\n",
       "    </tr>\n",
       "    <tr>\n",
       "      <th>1351</th>\n",
       "      <td>NaN</td>\n",
       "      <td>NaN</td>\n",
       "      <td>13-035215</td>\n",
       "      <td>BURGLARY-AUTO</td>\n",
       "      <td>NaN</td>\n",
       "      <td>NaN</td>\n",
       "      <td>Oakland</td>\n",
       "      <td>CA</td>\n",
       "      <td>POINT (-122.27307 37.80508)</td>\n",
       "    </tr>\n",
       "    <tr>\n",
       "      <th>4502</th>\n",
       "      <td>NaN</td>\n",
       "      <td>NaN</td>\n",
       "      <td>07-011308</td>\n",
       "      <td>GRAND THEFT</td>\n",
       "      <td>04X</td>\n",
       "      <td>1400 FRANKLIN ST</td>\n",
       "      <td>Oakland</td>\n",
       "      <td>CA</td>\n",
       "      <td>POINT (-122.26986 37.80401)</td>\n",
       "    </tr>\n",
       "    <tr>\n",
       "      <th>...</th>\n",
       "      <td>...</td>\n",
       "      <td>...</td>\n",
       "      <td>...</td>\n",
       "      <td>...</td>\n",
       "      <td>...</td>\n",
       "      <td>...</td>\n",
       "      <td>...</td>\n",
       "      <td>...</td>\n",
       "      <td>...</td>\n",
       "    </tr>\n",
       "    <tr>\n",
       "      <th>1070662</th>\n",
       "      <td>NaN</td>\n",
       "      <td>NaN</td>\n",
       "      <td>06-095203</td>\n",
       "      <td>ANNOYING TELEPHONE CALL:OBSCENE/THREATENING</td>\n",
       "      <td>NaN</td>\n",
       "      <td>NaN</td>\n",
       "      <td>Oakland</td>\n",
       "      <td>CA</td>\n",
       "      <td>POINT (-122.27307 37.80508)</td>\n",
       "    </tr>\n",
       "    <tr>\n",
       "      <th>1073880</th>\n",
       "      <td>NaN</td>\n",
       "      <td>NaN</td>\n",
       "      <td>06-101255</td>\n",
       "      <td>DISTURB THE PEACE</td>\n",
       "      <td>NaN</td>\n",
       "      <td>NaN</td>\n",
       "      <td>Oakland</td>\n",
       "      <td>CA</td>\n",
       "      <td>POINT (-122.27307 37.80508)</td>\n",
       "    </tr>\n",
       "    <tr>\n",
       "      <th>1074496</th>\n",
       "      <td>NaN</td>\n",
       "      <td>NaN</td>\n",
       "      <td>06-068176</td>\n",
       "      <td>BURGLARY-AUTO</td>\n",
       "      <td>NaN</td>\n",
       "      <td>NaN</td>\n",
       "      <td>Oakland</td>\n",
       "      <td>CA</td>\n",
       "      <td>POINT (-122.27307 37.80508)</td>\n",
       "    </tr>\n",
       "    <tr>\n",
       "      <th>1074871</th>\n",
       "      <td>NaN</td>\n",
       "      <td>NaN</td>\n",
       "      <td>06-074887</td>\n",
       "      <td>DISTURB THE PEACE</td>\n",
       "      <td>NaN</td>\n",
       "      <td>NaN</td>\n",
       "      <td>Oakland</td>\n",
       "      <td>CA</td>\n",
       "      <td>POINT (-122.27307 37.80508)</td>\n",
       "    </tr>\n",
       "    <tr>\n",
       "      <th>1076462</th>\n",
       "      <td>NaN</td>\n",
       "      <td>NaN</td>\n",
       "      <td>06-097843</td>\n",
       "      <td>THEFT</td>\n",
       "      <td>NaN</td>\n",
       "      <td>NaN</td>\n",
       "      <td>Oakland</td>\n",
       "      <td>CA</td>\n",
       "      <td>POINT (-122.27307 37.80508)</td>\n",
       "    </tr>\n",
       "  </tbody>\n",
       "</table>\n",
       "<p>269 rows × 9 columns</p>\n",
       "</div>"
      ],
      "text/plain": [
       "        CrimeType DateTime CaseNumber  \\\n",
       "450           NaN      NaN  08-055152   \n",
       "477           NaN      NaN  08-065205   \n",
       "490           NaN      NaN  08-070104   \n",
       "1351          NaN      NaN  13-035215   \n",
       "4502          NaN      NaN  07-011308   \n",
       "...           ...      ...        ...   \n",
       "1070662       NaN      NaN  06-095203   \n",
       "1073880       NaN      NaN  06-101255   \n",
       "1074496       NaN      NaN  06-068176   \n",
       "1074871       NaN      NaN  06-074887   \n",
       "1076462       NaN      NaN  06-097843   \n",
       "\n",
       "                                         Description PoliceBeat  \\\n",
       "450                                    BURGLARY-AUTO        77X   \n",
       "477              GRAND THEFT:MISCELLANEOUS (AMENDED)        11X   \n",
       "490                                            THEFT        77X   \n",
       "1351                                   BURGLARY-AUTO        NaN   \n",
       "4502                                     GRAND THEFT        04X   \n",
       "...                                              ...        ...   \n",
       "1070662  ANNOYING TELEPHONE CALL:OBSCENE/THREATENING        NaN   \n",
       "1073880                            DISTURB THE PEACE        NaN   \n",
       "1074496                                BURGLARY-AUTO        NaN   \n",
       "1074871                            DISTURB THE PEACE        NaN   \n",
       "1076462                                        THEFT        NaN   \n",
       "\n",
       "                  Address     City State                     Location  \n",
       "450               UNKNOWN  Oakland    CA                          NaN  \n",
       "477           500 63RD ST  Oakland    CA   POINT (-122.2609 37.84867)  \n",
       "490               UNKNOWN  Oakland    CA                          NaN  \n",
       "1351                  NaN  Oakland    CA  POINT (-122.27307 37.80508)  \n",
       "4502     1400 FRANKLIN ST  Oakland    CA  POINT (-122.26986 37.80401)  \n",
       "...                   ...      ...   ...                          ...  \n",
       "1070662               NaN  Oakland    CA  POINT (-122.27307 37.80508)  \n",
       "1073880               NaN  Oakland    CA  POINT (-122.27307 37.80508)  \n",
       "1074496               NaN  Oakland    CA  POINT (-122.27307 37.80508)  \n",
       "1074871               NaN  Oakland    CA  POINT (-122.27307 37.80508)  \n",
       "1076462               NaN  Oakland    CA  POINT (-122.27307 37.80508)  \n",
       "\n",
       "[269 rows x 9 columns]"
      ]
     },
     "execution_count": 8,
     "metadata": {},
     "output_type": "execute_result"
    }
   ],
   "source": [
    "crime_watch[crime_watch.DateTime.isnull()]"
   ]
  },
  {
   "cell_type": "code",
   "execution_count": 6,
   "id": "ace2fa91-bf84-4e05-9d84-00b36afa869b",
   "metadata": {},
   "outputs": [],
   "source": [
    "from datetime import datetime\n",
    "def convert_date(row):\n",
    "    # 06/05/2007 09:30:00 PM\n",
    "    try:\n",
    "        #return datetime.strptime(row.DateTime, \"%m/%d/%Y %H:%M:%S %p\")\n",
    "        # split the date on white space. \n",
    "        # Take the first item returned\n",
    "        # which should be month/day/year\n",
    "        date_str = row.DateTime.split(' ')[0]\n",
    "        return datetime.strptime(date_str, \"%m/%d/%Y\")\n",
    "    except:\n",
    "        return None\n",
    "    \n",
    "crime_watch['date_new'] = crime_watch.apply(convert_date,  axis=1)"
   ]
  },
  {
   "cell_type": "markdown",
   "id": "3a9b8f37-36c7-4649-8d0b-c09b964d8d96",
   "metadata": {},
   "source": [
    "crime_watch.date_new.notnull()"
   ]
  },
  {
   "cell_type": "code",
   "execution_count": 7,
   "id": "1a3ba1cc-704b-4a0d-a95b-ab9e7ba1f42b",
   "metadata": {},
   "outputs": [],
   "source": [
    "non_null_row_filter = crime_watch.date_new.notnull()"
   ]
  },
  {
   "cell_type": "code",
   "execution_count": 8,
   "id": "c7308263-6673-4093-b869-b373d14e932f",
   "metadata": {},
   "outputs": [],
   "source": [
    "clean_crime = crime_watch[non_null_row_filter]"
   ]
  },
  {
   "cell_type": "code",
   "execution_count": 9,
   "id": "5c4e0472-d4ef-4a78-bf4b-78e63c11a51c",
   "metadata": {},
   "outputs": [
    {
     "data": {
      "text/plain": [
       "<pandas.core.groupby.generic.DataFrameGroupBy object at 0x7fdc07106a00>"
      ]
     },
     "execution_count": 9,
     "metadata": {},
     "output_type": "execute_result"
    }
   ],
   "source": [
    "clean_crime.groupby(\"date_new\")"
   ]
  },
  {
   "cell_type": "markdown",
   "id": "bb10e997-83e8-406d-8253-6855386130eb",
   "metadata": {},
   "source": [
    "### Data Quality Check"
   ]
  },
  {
   "cell_type": "code",
   "execution_count": 10,
   "id": "d8c01c05-5750-4a19-937b-c8d2efcd3e27",
   "metadata": {},
   "outputs": [
    {
     "data": {
      "text/plain": [
       "datetime.datetime(1950, 1, 4, 0, 0)"
      ]
     },
     "execution_count": 10,
     "metadata": {},
     "output_type": "execute_result"
    }
   ],
   "source": [
    "clean_crime.date_new.min()"
   ]
  },
  {
   "cell_type": "code",
   "execution_count": 11,
   "id": "e6238318-f4dc-4124-8eea-cc649c4a39e5",
   "metadata": {},
   "outputs": [
    {
     "data": {
      "text/plain": [
       "datetime.datetime(3013, 7, 4, 0, 0)"
      ]
     },
     "execution_count": 11,
     "metadata": {},
     "output_type": "execute_result"
    }
   ],
   "source": [
    "clean_crime.date_new.max()"
   ]
  },
  {
   "cell_type": "markdown",
   "id": "11a9f729-e585-4dab-a64c-b30240d5919f",
   "metadata": {},
   "source": [
    "### Select the Time Scope"
   ]
  },
  {
   "cell_type": "code",
   "execution_count": 12,
   "id": "016fc910-8bed-40a5-8f09-a0a7e0499a2f",
   "metadata": {},
   "outputs": [],
   "source": [
    "end_date = clean_crime.date_new < datetime(2023, 1, 1)"
   ]
  },
  {
   "cell_type": "code",
   "execution_count": 13,
   "id": "dc6b570c-a6b6-4019-ac0c-f7ca0ed14d06",
   "metadata": {},
   "outputs": [],
   "source": [
    "start_date = clean_crime.date_new > datetime(2015, 12, 31)"
   ]
  },
  {
   "cell_type": "code",
   "execution_count": 14,
   "id": "50ed1cde-e5ca-4424-94bc-cf5551cb5922",
   "metadata": {},
   "outputs": [],
   "source": [
    "crime_16_22 = clean_crime[start_date & end_date]"
   ]
  },
  {
   "cell_type": "code",
   "execution_count": 15,
   "id": "9e06daba-41b7-40e9-ab1b-e2459ed52be9",
   "metadata": {},
   "outputs": [
    {
     "name": "stdout",
     "output_type": "stream",
     "text": [
      "<class 'pandas.core.frame.DataFrame'>\n",
      "Int64Index: 430543 entries, 0 to 1076702\n",
      "Data columns (total 10 columns):\n",
      " #   Column       Non-Null Count   Dtype \n",
      "---  ------       --------------   ----- \n",
      " 0   CrimeType    426734 non-null  object\n",
      " 1   DateTime     430543 non-null  object\n",
      " 2   CaseNumber   430543 non-null  object\n",
      " 3   Description  430542 non-null  object\n",
      " 4   PoliceBeat   429962 non-null  object\n",
      " 5   Address      430414 non-null  object\n",
      " 6   City         430543 non-null  object\n",
      " 7   State        430543 non-null  object\n",
      " 8   Location     419055 non-null  object\n",
      " 9   date_new     430543 non-null  object\n",
      "dtypes: object(10)\n",
      "memory usage: 36.1+ MB\n"
     ]
    }
   ],
   "source": [
    "crime_16_22.info()"
   ]
  },
  {
   "cell_type": "code",
   "execution_count": 16,
   "id": "186d9791-486d-4bda-a212-c1a542833e05",
   "metadata": {},
   "outputs": [
    {
     "data": {
      "text/plain": [
       "datetime.datetime(2016, 1, 1, 0, 0)"
      ]
     },
     "execution_count": 16,
     "metadata": {},
     "output_type": "execute_result"
    }
   ],
   "source": [
    "crime_16_22.date_new.min()"
   ]
  },
  {
   "cell_type": "code",
   "execution_count": 17,
   "id": "10e04183-1eb3-494a-afa5-11c12aa04891",
   "metadata": {},
   "outputs": [
    {
     "data": {
      "text/plain": [
       "datetime.datetime(2022, 12, 31, 0, 0)"
      ]
     },
     "execution_count": 17,
     "metadata": {},
     "output_type": "execute_result"
    }
   ],
   "source": [
    "crime_16_22.date_new.max()"
   ]
  },
  {
   "cell_type": "markdown",
   "id": "f69a3564-d78d-40e6-a455-85ebd00974c4",
   "metadata": {},
   "source": [
    "### Export Clean Dataframe"
   ]
  },
  {
   "cell_type": "code",
   "execution_count": 18,
   "id": "79f9d31c-bcb9-4245-bf05-550112985d52",
   "metadata": {},
   "outputs": [
    {
     "name": "stderr",
     "output_type": "stream",
     "text": [
      "Error in atexit._run_exitfuncs:\n",
      "Traceback (most recent call last):\n",
      "  File \"/opt/conda/lib/python3.9/site-packages/popularity_contest/reporter.py\", line 105, in report_popularity\n",
      "    libraries = get_used_libraries(initial_modules, current_modules)\n",
      "  File \"/opt/conda/lib/python3.9/site-packages/popularity_contest/reporter.py\", line 74, in get_used_libraries\n",
      "    all_packages = get_all_packages()\n",
      "  File \"/opt/conda/lib/python3.9/site-packages/popularity_contest/reporter.py\", line 51, in get_all_packages\n",
      "    for f in dist.files:\n",
      "TypeError: 'NoneType' object is not iterable\n"
     ]
    }
   ],
   "source": [
    "crime_16_22.to_csv('crime_16_22.csv')"
   ]
  }
 ],
 "metadata": {
  "kernelspec": {
   "display_name": "Python 3 (ipykernel)",
   "language": "python",
   "name": "python3"
  },
  "language_info": {
   "codemirror_mode": {
    "name": "ipython",
    "version": 3
   },
   "file_extension": ".py",
   "mimetype": "text/x-python",
   "name": "python",
   "nbconvert_exporter": "python",
   "pygments_lexer": "ipython3",
   "version": "3.9.15"
  }
 },
 "nbformat": 4,
 "nbformat_minor": 5
}
